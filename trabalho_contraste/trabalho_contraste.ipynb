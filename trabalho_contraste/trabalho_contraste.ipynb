{
 "cells": [
  {
   "cell_type": "code",
   "execution_count": null,
   "metadata": {},
   "outputs": [
    {
     "ename": "",
     "evalue": "",
     "output_type": "error",
     "traceback": [
      "\u001b[1;31mRunning cells with '.venv' requires the ipykernel package.\n",
      "\u001b[1;31mRun the following command to install 'ipykernel' into the Python environment. \n",
      "\u001b[1;31mCommand: '/home/otavio/projetos/PIM/Trabalho-Contraste/.venv/bin/python -m pip install ipykernel -U --force-reinstall'"
     ]
    }
   ],
   "source": [
    "import numpy as np\n",
    "from numpy import linalg\n",
    "import plotly.express as px\n",
    "import polars as pl\n",
    "from typing import Dict\n",
    "from PIL import Image\n",
    "from functools import reduce\n",
    "from operator import mul\n",
    "from skimage.color import rgb2yiq, yiq2rgb\n",
    "from trabalho_contraste.commom import (\n",
    "    load_images,\n",
    "    get_img_matrixes,\n",
    "    IMG_FOLDER,\n",
    "    get_img_dfs,\n",
    "    get_metrics,\n",
    "    apply_filter,\n",
    "    get_histograma,\n",
    "    norm_hist,\n",
    ")"
   ]
  }
 ],
 "metadata": {
  "kernelspec": {
   "display_name": ".venv",
   "language": "python",
   "name": "python3"
  },
  "language_info": {
   "name": "python",
   "version": "3.11.2"
  },
  "orig_nbformat": 4
 },
 "nbformat": 4,
 "nbformat_minor": 2
}
